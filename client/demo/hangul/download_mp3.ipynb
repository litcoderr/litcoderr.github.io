{
 "cells": [
  {
   "cell_type": "code",
   "execution_count": 2,
   "metadata": {},
   "outputs": [],
   "source": [
    "import youtube_dl\n",
    "\n",
    "def download(link):\n",
    "  ydl_opts = {\n",
    "      'format': 'bestaudio/best',\n",
    "      'postprocessors': [{\n",
    "          'key': 'FFmpegExtractAudio',\n",
    "          'preferredcodec': 'mp3',\n",
    "          'preferredquality': '192',\n",
    "      }],\n",
    "  }\n",
    "  with youtube_dl.YoutubeDL(ydl_opts) as ydl:\n",
    "    result = ydl.extract_info(link,download=False)\n",
    "    if 'entries' in result:\n",
    "      video = result['entries'][0]\n",
    "      return 0\n",
    "    else:\n",
    "      video = result\n",
    "      title = \"{}-{}.mp3\".format(video[\"title\"],video['id'])\n",
    "      ydl.download([link])\n",
    "      return title"
   ]
  },
  {
   "cell_type": "code",
   "execution_count": 3,
   "metadata": {},
   "outputs": [
    {
     "name": "stdout",
     "output_type": "stream",
     "text": [
      "link:https://www.youtube.com/watch?v=3P1CnWI62Ik\n",
      "[youtube] 3P1CnWI62Ik: Downloading webpage\n",
      "[youtube] 3P1CnWI62Ik: Downloading webpage\n",
      "[download] Destination: Feel the Rhythm of KOREA - SEOUL-3P1CnWI62Ik.webm\n",
      "[download] 100% of 1.42MiB in 00:0016MiB/s ETA 00:001\n",
      "[ffmpeg] Destination: Feel the Rhythm of KOREA - SEOUL-3P1CnWI62Ik.mp3\n",
      "Deleting original file Feel the Rhythm of KOREA - SEOUL-3P1CnWI62Ik.webm (pass -k to keep)\n"
     ]
    }
   ],
   "source": [
    "link = input(\"link:\")\n",
    "file_path = download(link)"
   ]
  },
  {
   "cell_type": "code",
   "execution_count": 4,
   "metadata": {},
   "outputs": [
    {
     "data": {
      "text/plain": [
       "'Feel the Rhythm of KOREA: SEOUL-3P1CnWI62Ik.mp3'"
      ]
     },
     "execution_count": 4,
     "metadata": {},
     "output_type": "execute_result"
    }
   ],
   "source": [
    "file_path"
   ]
  },
  {
   "cell_type": "code",
   "execution_count": null,
   "metadata": {},
   "outputs": [],
   "source": []
  }
 ],
 "metadata": {
  "kernelspec": {
   "display_name": "Python 3",
   "language": "python",
   "name": "python3"
  },
  "language_info": {
   "codemirror_mode": {
    "name": "ipython",
    "version": 3
   },
   "file_extension": ".py",
   "mimetype": "text/x-python",
   "name": "python",
   "nbconvert_exporter": "python",
   "pygments_lexer": "ipython3",
   "version": "3.7.4"
  }
 },
 "nbformat": 4,
 "nbformat_minor": 2
}
